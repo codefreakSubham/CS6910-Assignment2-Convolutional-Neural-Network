{
  "metadata": {
    "kernelspec": {
      "language": "python",
      "display_name": "Python 3",
      "name": "python3"
    },
    "language_info": {
      "name": "python",
      "version": "3.7.12",
      "mimetype": "text/x-python",
      "codemirror_mode": {
        "name": "ipython",
        "version": 3
      },
      "pygments_lexer": "ipython3",
      "nbconvert_exporter": "python",
      "file_extension": ".py"
    },
    "colab": {
      "name": "Convolutional_Neural_Network.ipynb",
      "provenance": []
    }
  },
  "nbformat_minor": 0,
  "nbformat": 4,
  "cells": [
    {
      "cell_type": "code",
      "source": [
        "import glob\n",
        "import tensorflow as tf\n",
        "from tensorflow import keras\n",
        "from tensorflow.keras.preprocessing.image import ImageDataGenerator\n",
        "from tensorflow.keras.models import Sequential, Model\n",
        "from tensorflow.keras.layers import Dense, Flatten, Conv2D, MaxPooling2D, Activation, Dropout, BatchNormalization\n",
        "import numpy as np\n",
        "import matplotlib.pyplot as plt\n",
        "import wandb\n",
        "from wandb.keras import WandbCallback"
      ],
      "metadata": {
        "id": "LFRkh5mmAyKX",
        "execution": {
          "iopub.status.busy": "2022-03-27T07:15:24.311628Z",
          "iopub.execute_input": "2022-03-27T07:15:24.311952Z",
          "iopub.status.idle": "2022-03-27T07:15:29.660795Z",
          "shell.execute_reply.started": "2022-03-27T07:15:24.311869Z",
          "shell.execute_reply": "2022-03-27T07:15:29.659885Z"
        },
        "trusted": true
      },
      "execution_count": null,
      "outputs": []
    },
    {
      "cell_type": "code",
      "source": [
        "seed = 100\n",
        "tf.random.set_seed(seed)\n",
        "np.random.seed(seed)"
      ],
      "metadata": {
        "execution": {
          "iopub.status.busy": "2022-03-27T07:15:29.662709Z",
          "iopub.execute_input": "2022-03-27T07:15:29.662956Z",
          "iopub.status.idle": "2022-03-27T07:15:29.668577Z",
          "shell.execute_reply.started": "2022-03-27T07:15:29.662923Z",
          "shell.execute_reply": "2022-03-27T07:15:29.667857Z"
        },
        "trusted": true,
        "id": "HHXOuh3tu5Cu"
      },
      "execution_count": null,
      "outputs": []
    },
    {
      "cell_type": "code",
      "source": [
        "wandb.login()"
      ],
      "metadata": {
        "execution": {
          "iopub.status.busy": "2022-03-27T07:15:29.669914Z",
          "iopub.execute_input": "2022-03-27T07:15:29.670635Z",
          "iopub.status.idle": "2022-03-27T07:15:44.823506Z",
          "shell.execute_reply.started": "2022-03-27T07:15:29.670465Z",
          "shell.execute_reply": "2022-03-27T07:15:44.822820Z"
        },
        "trusted": true,
        "id": "-_uz6zxeu5Cz"
      },
      "execution_count": null,
      "outputs": []
    },
    {
      "cell_type": "markdown",
      "source": [
        "### Downloading and unzipping iNaturalist Dataset"
      ],
      "metadata": {
        "id": "6nU-Yk7ZUBg0"
      }
    },
    {
      "cell_type": "code",
      "source": [
        "!wget https://storage.googleapis.com/wandb_datasets/nature_12K.zip"
      ],
      "metadata": {
        "id": "M0_aseuwJiTE",
        "execution": {
          "iopub.status.busy": "2022-03-27T07:15:44.825560Z",
          "iopub.execute_input": "2022-03-27T07:15:44.825821Z",
          "iopub.status.idle": "2022-03-27T07:15:59.339498Z",
          "shell.execute_reply.started": "2022-03-27T07:15:44.825786Z",
          "shell.execute_reply": "2022-03-27T07:15:59.338727Z"
        },
        "trusted": true
      },
      "execution_count": null,
      "outputs": []
    },
    {
      "cell_type": "code",
      "source": [
        "!unzip \"./nature_12K.zip\""
      ],
      "metadata": {
        "id": "_gCGxwNJUmmw",
        "execution": {
          "iopub.status.busy": "2022-03-27T07:15:59.341042Z",
          "iopub.execute_input": "2022-03-27T07:15:59.341833Z",
          "iopub.status.idle": "2022-03-27T07:16:31.927352Z",
          "shell.execute_reply.started": "2022-03-27T07:15:59.341793Z",
          "shell.execute_reply": "2022-03-27T07:16:31.926420Z"
        },
        "trusted": true
      },
      "execution_count": null,
      "outputs": []
    },
    {
      "cell_type": "markdown",
      "source": [
        "### Preparing data for training"
      ],
      "metadata": {
        "id": "rQUb8FmQHvjL"
      }
    },
    {
      "cell_type": "code",
      "source": [
        "def train_dataset(augmentation=False, batch_size=64):\n",
        "    dir_train = './inaturalist_12K/train'\n",
        "    dir_test = './inaturalist_12K/val'\n",
        "\n",
        "    if augmentation:\n",
        "        train_datagen = ImageDataGenerator(rescale=1./255,\n",
        "                                          zoom_range=0.3,\n",
        "                                          rotation_range=50,\n",
        "                                          brightness_range=(0.2, 0.8),\n",
        "                                          shear_range=0.2,\n",
        "                                          width_shift_range=0.1,\n",
        "                                          height_shift_range=0.2,\n",
        "                                          horizontal_flip=True,\n",
        "                                          vertical_flip=True,\n",
        "                                          validation_split=0.1,)\n",
        "        test_datagen = ImageDataGenerator(rescale=1./255)\n",
        "\n",
        "    else:\n",
        "        train_datagen = ImageDataGenerator(rescale=1./255, validation_split=0.1)\n",
        "        test_datagen = ImageDataGenerator(rescale=1./255)\n",
        "\n",
        "    train = train_datagen.flow_from_directory(dir_train, target_size=(200, 200), batch_size=batch_size, subset=\"training\")\n",
        "    val = train_datagen.flow_from_directory(dir_train, target_size=(200, 200), batch_size=batch_size, subset=\"validation\")\n",
        "    test = test_datagen.flow_from_directory(dir_test, target_size=(200, 200), batch_size=batch_size)\n",
        "    \n",
        "    return train, val, test;"
      ],
      "metadata": {
        "execution": {
          "iopub.status.busy": "2022-03-27T07:16:31.931002Z",
          "iopub.execute_input": "2022-03-27T07:16:31.931233Z",
          "iopub.status.idle": "2022-03-27T07:16:31.940988Z",
          "shell.execute_reply.started": "2022-03-27T07:16:31.931203Z",
          "shell.execute_reply": "2022-03-27T07:16:31.940187Z"
        },
        "trusted": true,
        "id": "X4bzFKuwu5DH"
      },
      "execution_count": null,
      "outputs": []
    },
    {
      "cell_type": "code",
      "source": [
        "def CNN(n_filters, filter_multiplier, dropout, batch_norm, dense_size, act_func= \"relu\", n_classes=10, image_size=200):\n",
        "    \n",
        "    model = Sequential()\n",
        "    for i in range(5):\n",
        "        filter_dim = 10 - 2*i\n",
        "        filter_size = (filter_dim, filter_dim)\n",
        "        if i==0:\n",
        "            model.add(Conv2D(n_filters, filter_size, input_shape=(image_size, image_size, 3), data_format=\"channels_last\"))\n",
        "        else:\n",
        "            model.add(Conv2D(n_filters, filter_size))\n",
        "        if batch_norm:\n",
        "            model.add(BatchNormalization())\n",
        "        model.add(Activation(act_func))\n",
        "        model.add(MaxPooling2D(pool_size=(2,2)))\n",
        "        num_filters = int(n_filters * filter_multiplier)\n",
        "    \n",
        "    model.add(Flatten())\n",
        "    model.add(Dense(dense_size))\n",
        "    model.add(Dropout(dropout))\n",
        "    if act_func == \"relu\":\n",
        "        model.add(Activation(\"relu\"))\n",
        "    if act_func == \"leaky\":\n",
        "        model.add(LeakyReLU(alpha=0.3))\n",
        "    model.add(Dense(n_classes))\n",
        "    model.add(Activation(\"softmax\"))\n",
        "\n",
        "    return model"
      ],
      "metadata": {
        "id": "P6pCb459Nh6O",
        "execution": {
          "iopub.status.busy": "2022-03-27T07:16:31.942597Z",
          "iopub.execute_input": "2022-03-27T07:16:31.943204Z",
          "iopub.status.idle": "2022-03-27T07:16:31.953939Z",
          "shell.execute_reply.started": "2022-03-27T07:16:31.943167Z",
          "shell.execute_reply": "2022-03-27T07:16:31.953243Z"
        },
        "trusted": true
      },
      "execution_count": null,
      "outputs": []
    },
    {
      "cell_type": "markdown",
      "source": [
        "### Visualizing some training images"
      ],
      "metadata": {
        "id": "rztv3F5-u5DV"
      }
    },
    {
      "cell_type": "code",
      "source": [
        "train, val, test = train_dataset(augmentation=False, batch_size=64)\n",
        "img = train.next()"
      ],
      "metadata": {
        "execution": {
          "iopub.status.busy": "2022-03-27T07:16:31.955444Z",
          "iopub.execute_input": "2022-03-27T07:16:31.956033Z",
          "iopub.status.idle": "2022-03-27T07:16:33.459357Z",
          "shell.execute_reply.started": "2022-03-27T07:16:31.955996Z",
          "shell.execute_reply": "2022-03-27T07:16:33.458556Z"
        },
        "trusted": true,
        "id": "-S_gzkowu5DY"
      },
      "execution_count": null,
      "outputs": []
    },
    {
      "cell_type": "code",
      "source": [
        "index_to_class = {0: 'Amphibia', 1: 'Animalia', 2: 'Arachnida', 3: 'Aves', 4: 'Fungi', \n",
        "                  5: 'Insecta', 6: 'Mammalia', 7: 'Mollusca', 8: 'Plantae', 9: 'Reptilia'}\n",
        "\n",
        "plt.figure(figsize=(15,15))\n",
        "for i in range(64):\n",
        "    plt.subplot(8,8,i+1)\n",
        "    plt.xticks([])\n",
        "    plt.yticks([])\n",
        "    plt.grid(False)\n",
        "    plt.imshow(img[0][i])\n",
        "    plt.xlabel(index_to_class[np.argmax(img[1][i])])\n",
        "plt.show()"
      ],
      "metadata": {
        "id": "r8Pgem20qT4G",
        "execution": {
          "iopub.status.busy": "2022-03-27T07:16:33.460807Z",
          "iopub.execute_input": "2022-03-27T07:16:33.461314Z",
          "iopub.status.idle": "2022-03-27T07:16:36.426986Z",
          "shell.execute_reply.started": "2022-03-27T07:16:33.461275Z",
          "shell.execute_reply": "2022-03-27T07:16:36.426207Z"
        },
        "trusted": true
      },
      "execution_count": null,
      "outputs": []
    },
    {
      "cell_type": "markdown",
      "source": [
        "### Function to set WandB run name"
      ],
      "metadata": {
        "id": "h0D04xWaHG1Y"
      }
    },
    {
      "cell_type": "code",
      "source": [
        "def setWandbName(n_filters, filter_multiplier, augment, dropout, batch_norm):\n",
        "    \n",
        "    batch_norm_dict = {True: \"Y\", False: \"N\"}\n",
        "    augment_dict = {True: \"Y\", False: \"N\"}\n",
        "\n",
        "    name = \"_\".join([\"num\", str(n_filters), \"org\", str(filter_multiplier), \"aug\", augment_dict[augment],\n",
        "                      \"drop\", str(dropout), \"norm\", batch_norm_dict[batch_norm]])\n",
        "    \n",
        "    return name;"
      ],
      "metadata": {
        "execution": {
          "iopub.status.busy": "2022-03-27T07:16:36.429674Z",
          "iopub.execute_input": "2022-03-27T07:16:36.430239Z",
          "iopub.status.idle": "2022-03-27T07:16:36.436344Z",
          "shell.execute_reply.started": "2022-03-27T07:16:36.430200Z",
          "shell.execute_reply": "2022-03-27T07:16:36.435766Z"
        },
        "trusted": true,
        "id": "VgLM4wbzu5Dh"
      },
      "execution_count": null,
      "outputs": []
    },
    {
      "cell_type": "markdown",
      "source": [
        "### Function to train the dataset"
      ],
      "metadata": {
        "id": "XfPKFk5mu5Dj"
      }
    },
    {
      "cell_type": "code",
      "source": [
        "def train_wandb(config= None):\n",
        "\n",
        "    '''best_config = {\n",
        "        \"n_filters\": 64,\n",
        "        \"filter_multiplier\": 2,\n",
        "        \"augment_data\": True,\n",
        "        \"dropout\": 0.3,\n",
        "        \"batch_norm\": True,\n",
        "        \"epochs\": 20,\n",
        "        \"dense_size\": 32,\n",
        "        \"lr\": 0.001\n",
        "    }'''\n",
        "    \n",
        "    wandb.init(project=\"Convolutional Neural Networks\", entity=\"cs21s048-cs21s058\")\n",
        "    config = wandb.config\n",
        "    print(config.augment_data)\n",
        "    wandb.run.name = setWandbName(config.n_filters, config.filter_multiplier, config.augment_data, config.dropout, config.batch_norm)\n",
        "\n",
        "    train, val, test = train_dataset(augmentation=config.augment_data, batch_size=config.batch_size)\n",
        "\n",
        "    model = CNN(n_filters=config.n_filters, filter_multiplier=config.filter_multiplier,\n",
        "                      dropout= config.dropout, batch_norm = config.batch_norm, dense_size= config.dense_size)\n",
        "    model.compile(optimizer=keras.optimizers.Adam(config.lr), loss=\"categorical_crossentropy\", metrics=\"categorical_accuracy\")\n",
        "    model.fit(train, epochs=config.epochs, validation_data=val, callbacks=[WandbCallback()])"
      ],
      "metadata": {
        "id": "NwHvUd0GDgl-",
        "execution": {
          "iopub.status.busy": "2022-03-27T07:16:36.437463Z",
          "iopub.execute_input": "2022-03-27T07:16:36.437822Z",
          "iopub.status.idle": "2022-03-27T07:16:37.781100Z",
          "shell.execute_reply.started": "2022-03-27T07:16:36.437788Z",
          "shell.execute_reply": "2022-03-27T07:16:37.780331Z"
        },
        "trusted": true
      },
      "execution_count": null,
      "outputs": []
    },
    {
      "cell_type": "code",
      "source": [
        "def train(config= None):\n",
        "\n",
        "    '''best_config = {\n",
        "        \"n_filters\": 64,\n",
        "        \"filter_multiplier\": 2,\n",
        "        \"augment_data\": True,\n",
        "        \"dropout\": 0.3,\n",
        "        \"batch_norm\": True,\n",
        "        \"batch_size\" : 128,\n",
        "        \"epochs\": 20,\n",
        "        \"dense_size\": 32,\n",
        "        \"lr\": 0.001\n",
        "    }'''\n",
        "\n",
        "    train, val, test = train_dataset(augmentation=True, batch_size=128)\n",
        "\n",
        "    model = CNN(n_filters=64, filter_multiplier=2,\n",
        "                      dropout= 0.3, batch_norm = True, dense_size= 32)\n",
        "    model.compile(optimizer=keras.optimizers.Adam(0.001), loss=\"categorical_crossentropy\", metrics=\"categorical_accuracy\")\n",
        "    model.fit(train, epochs=20, validation_data=val)\n",
        "    print(\"testing Model: \")\n",
        "    model.evaluate(test, batch_size=128)"
      ],
      "metadata": {
        "execution": {
          "iopub.status.busy": "2022-03-27T07:16:37.782535Z",
          "iopub.execute_input": "2022-03-27T07:16:37.783038Z",
          "iopub.status.idle": "2022-03-27T07:16:38.489744Z",
          "shell.execute_reply.started": "2022-03-27T07:16:37.783000Z",
          "shell.execute_reply": "2022-03-27T07:16:38.488561Z"
        },
        "trusted": true,
        "id": "EdVQkSj3u5Dq"
      },
      "execution_count": null,
      "outputs": []
    },
    {
      "cell_type": "markdown",
      "source": [
        "### Setting up wandb sweep"
      ],
      "metadata": {
        "id": "fdndK1fDu5Dt"
      }
    },
    {
      "cell_type": "code",
      "source": [
        "sweep_config = {\n",
        "    \"name\": \"Final Sweep(Bayesian)\",\n",
        "    \"description\": \"Tuning hyperparameters\",\n",
        "    'metric': {\n",
        "      'name': 'val_categorical_accuracy',\n",
        "      'goal': 'maximize'\n",
        "  },\n",
        "    \"method\": \"bayes\",\n",
        "    \"project\": \"CS6910_Assignment2\",\n",
        "    \"parameters\": {\n",
        "        \"n_filters\": {\n",
        "        \"values\": [16, 32, 64]\n",
        "        },\n",
        "        \"filter_multiplier\": {\n",
        "            \"values\": [0.5, 1, 2]\n",
        "        },\n",
        "        \"augment_data\": {\n",
        "            \"values\": [True]\n",
        "        },\n",
        "        \"dropout\": {\n",
        "            \"values\": [0.3, 0.5]\n",
        "        },\n",
        "        \"batch_norm\": {\n",
        "            \"values\": [False, True]\n",
        "        },\n",
        "        \"epochs\": {\n",
        "            \"values\": [5, 10]\n",
        "        },\n",
        "        \"dense_size\": {\n",
        "            \"values\": [32, 64, 128]\n",
        "        },\n",
        "        \"lr\": {\n",
        "            \"values\": [0.01, 0.001]\n",
        "        },\n",
        "        \"batch_size\": {\n",
        "            \"values\": [64, 128, 256]\n",
        "        },\n",
        "        \"activation\": {\n",
        "            \"values\": [\"relu\", \"leaky\"]\n",
        "        },\n",
        "    }\n",
        "}\n",
        "\n",
        "# creating the sweep\n",
        "sweep_id = wandb.sweep(sweep_config, project=\"Convolutional Neural Networks\", entity=\"cs21s048-cs21s058\")"
      ],
      "metadata": {
        "id": "MlVwjHpfEfIt",
        "execution": {
          "iopub.status.busy": "2022-03-27T07:16:38.497424Z",
          "iopub.execute_input": "2022-03-27T07:16:38.499897Z",
          "iopub.status.idle": "2022-03-27T07:16:38.951156Z",
          "shell.execute_reply.started": "2022-03-27T07:16:38.499849Z",
          "shell.execute_reply": "2022-03-27T07:16:38.950382Z"
        },
        "trusted": true
      },
      "execution_count": null,
      "outputs": []
    }
  ]
}